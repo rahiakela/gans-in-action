{
  "nbformat": 4,
  "nbformat_minor": 0,
  "metadata": {
    "colab": {
      "name": "semi-supervised-gan.ipynb",
      "provenance": [],
      "toc_visible": true,
      "authorship_tag": "ABX9TyOfRykqxiwUrqACCK1Tw2Uo",
      "include_colab_link": true
    },
    "kernelspec": {
      "name": "python3",
      "display_name": "Python 3"
    },
    "accelerator": "GPU"
  },
  "cells": [
    {
      "cell_type": "markdown",
      "metadata": {
        "id": "view-in-github",
        "colab_type": "text"
      },
      "source": [
        "<a href=\"https://colab.research.google.com/github/rahiakela/gans-in-action/blob/part-2-advanced-topics-in-gans/7-semi_supervised_gan.ipynb\" target=\"_parent\"><img src=\"https://colab.research.google.com/assets/colab-badge.svg\" alt=\"Open In Colab\"/></a>"
      ]
    },
    {
      "cell_type": "markdown",
      "metadata": {
        "id": "8pizKqGIkp91",
        "colab_type": "text"
      },
      "source": [
        "# Semi-Supervised GAN(SGAN)\n"
      ]
    },
    {
      "cell_type": "markdown",
      "metadata": {
        "id": "LjA_5Gotkq1o",
        "colab_type": "text"
      },
      "source": [
        "Semi-supervised learning is one of the most promising areas of practical application of GANs. \n",
        "\n",
        "Unlike supervised learning, in which we need a label for every example in our\n",
        "dataset, and unsupervised learning, in which no labels are used, semi-supervised\n",
        "learning has a class label for only a small subset of the training dataset. \n",
        "\n",
        "By internalizing hidden structures in the data, semi-supervised learning strives to generalize from the small subset of labeled data points to effectively classify new, previously unseen examples. \n",
        "\n",
        "Importantly, for semi-supervised learning to work, the labeled and unlabeled\n",
        "data must come from the same underlying distribution.\n",
        "\n",
        "Interestingly, semi-supervised learning may also be one of the closest machine\n",
        "learning analogs to the way humans learn. \n",
        "\n",
        "When schoolchildren learn to read and write, the teacher does not have to take them on a road trip to see tens of thousands of examples of letters and numbers, ask them to identify these symbols, and correct them as needed—similarly to the way a supervised learning algorithm would operate.\n",
        "Instead, a single set of examples is all that is needed for children to learn letters and numerals and then be able to recognize them regardless of font, size, angle, lighting conditions, and many other factors. Semi-supervised learning aims to teach machines in a similarly efficient manner.\n",
        "\n",
        "Serving as a source of additional information that can be used for training, generative models proved useful in improving the accuracy of semi-supervised models. Unsurprisingly, GANs have proven the most promising."
      ]
    },
    {
      "cell_type": "markdown",
      "metadata": {
        "id": "-Y-jY5AClg05",
        "colab_type": "text"
      },
      "source": [
        "## What is a Semi-Supervised GAN?"
      ]
    },
    {
      "cell_type": "markdown",
      "metadata": {
        "id": "_l9AyIbLliCG",
        "colab_type": "text"
      },
      "source": [
        "Semi-Supervised GAN (SGAN) is a Generative Adversarial Network whose Discriminator is a multiclass classifier. Instead of distinguishing between only two classes (real and fake), it learns to distinguish between N + 1 classes, where N is the number of classes in the training dataset, with one added for the fake examples produced by the Generator.\n",
        "\n",
        "For example, the MNIST dataset of handwritten digits has 10 labels (one label for each numeral, 0 to 9), so the SGAN Discriminator trained on this dataset would predict between 10 + 1 = 11 classes. \n",
        "\n",
        "In our implementation, the output of the SGAN Discriminator will be represented as a vector of 10 class probabilities (that sum up to 1.0) plus another probability that represents whether the image is real or fake.\n",
        "\n",
        "\n",
        "<img src='https://github.com/rahiakela/img-repo/blob/master/gans-in-action/sgan-architecture.png?raw=1' width='800'/>\n",
        "\n",
        "---\n",
        "\n",
        "In this Semi-Supervised GAN, the Generator takes in a random noise\n",
        "vector z and produces a fake example x*. The Discriminator receives three kinds of data inputs: fake data from the Generator, real unlabeled examples x, and real labeled examples (x, y), where y is the label corresponding to the given example. The Discriminator then outputs a classification; its goal is to distinguish fake examples from the real ones and, for the real examples, identify the correct class. Notice that the portion of examples with labels is much smaller than the portion of the unlabeled data. In practice, the contrast is even starker than the one shown, with labeled data forming only a tiny fraction (often as little as 1–2%) of the training data.\n",
        "\n",
        "---\n",
        "\n",
        "The task of distinguishing between multiple classes not only\n",
        "impacts the Discriminator itself, but also adds complexity to the SGAN architecture, its training process, and its training objectives, as compared to the traditional GAN.\n",
        "\n",
        "\n",
        "\n",
        "\n"
      ]
    },
    {
      "cell_type": "markdown",
      "metadata": {
        "id": "UFAyB1rHoWAp",
        "colab_type": "text"
      },
      "source": [
        "## Architecture"
      ]
    },
    {
      "cell_type": "markdown",
      "metadata": {
        "id": "x9VV2AsYoY21",
        "colab_type": "text"
      },
      "source": [
        "The SGAN Generator’s purpose is the same as in the original GAN: it takes in a vector of random numbers and produces fake examples whose goal is to be indistinguishable from the training dataset—no change here.\n",
        "\n",
        "The SGAN Discriminator, however, diverges considerably from the original GAN\n",
        "implementation. Instead of two, it receives three kinds of inputs: fake examples produced by the Generator (x*), real examples without labels from the training dataset (x), and real examples with labels from the training dataset (x, y), where y denotes the label for the given example x.Instead of binary classification, the SGAN Discriminator’s goal is to correctly categorize the input example into its corresponding class if the example is real, or reject the example as fake (which can be thought of as a special additional class).\n",
        "\n",
        "<img src='https://github.com/rahiakela/img-repo/blob/master/gans-in-action/sgan-network-table.png?raw=1' width='800'/>\n",
        "\n"
      ]
    },
    {
      "cell_type": "markdown",
      "metadata": {
        "id": "0FaSgDE4pCzf",
        "colab_type": "text"
      },
      "source": [
        "## Training process"
      ]
    },
    {
      "cell_type": "markdown",
      "metadata": {
        "id": "bryN-FoppE-B",
        "colab_type": "text"
      },
      "source": [
        "In a regular GAN, we train the Discriminator by computing the loss for\n",
        "$D(x)$ and $D(x*)$ and backpropagating the total loss to update the Discriminator’s trainable parameters to minimize the loss. The Generator is trained by backpropagating the Discriminator’s loss for D(x*), seeking to maximize it, so that the fake examples it synthesizes are misclassified as real.\n",
        "\n",
        "To train the SGAN, in addition to D(x) and D(x*), we also have to compute the loss for the supervised training examples: D((x, y)). These losses correspond to the dual learning objective that the SGAN Discriminator has to grapple with: distinguishing real examples from the fake ones while also learning to classify real examples to their correct classes."
      ]
    },
    {
      "cell_type": "markdown",
      "metadata": {
        "id": "8PvJ20SVpd5F",
        "colab_type": "text"
      },
      "source": [
        "## Training objective"
      ]
    },
    {
      "cell_type": "markdown",
      "metadata": {
        "id": "eLzCaKO_pezF",
        "colab_type": "text"
      },
      "source": [
        "All the GAN generative models goal is to produce realistic-looking data samples; hence, the Generator network has been of primary interest. The main purpose of the Discriminator network has been to help the Generator improve the quality of images it produces. \n",
        "\n",
        "**At the end of the training, we often disregard the Discriminator and use only the fully trained Generator to create realistic-looking synthetic data.**\n",
        "\n",
        "In contrast, in a SGAN, we care primarily about the Discriminator. The goal of the training process is to make this network into a semi-supervised classifier whose accuracy is as close as possible to a fully supervised classifier (one that has labels available for each example in the training dataset), while using only a small fraction of the labels. The Generator’s goal is to aid this process by serving as a source of additional information (the fake data it produces) that helps the Generator learn the relevant patterns in the data, enhancing its classification accuracy. \n",
        "\n",
        "**At the end of the training, the Generator gets discarded, and we use the trained Discriminator as a classifier.**"
      ]
    },
    {
      "cell_type": "markdown",
      "metadata": {
        "id": "0Xs6iB1YqoP7",
        "colab_type": "text"
      },
      "source": [
        "## Implementing a Semi-Supervised GAN"
      ]
    },
    {
      "cell_type": "markdown",
      "metadata": {
        "id": "r-B3TzELqqae",
        "colab_type": "text"
      },
      "source": [
        "We implement an SGAN model that learns to classify handwritten digits in the MNIST dataset by using only 100 training examples. At the end of it, we compare the model’s classification accuracy to an equivalent fully supervised model to see for ourselves the improvement achieved by semi-supervised learning.\n",
        "\n",
        "<img src='https://github.com/rahiakela/img-repo/blob/master/gans-in-action/sgan-diagram.png?raw=1' width='800'/>\n",
        "\n",
        "The Generator turns random noise into fake examples. The Discriminator receives real images with labels (x, y), real images without labels (x), and fake images produced by the Generator (x*). To distinguish real examples from fake ones, the Discriminator uses the sigmoid function. To distinguish between the real classes, the Discriminator uses the\n",
        "softmax function.\n",
        "\n",
        "\n",
        "---\n",
        "\n",
        "To solve the multiclass classification problem of distinguishing between the real labels, the Discriminator uses the softmax function, which gives probability distribution over a specified number of classes—in our case, 10. The higher the probability assigned to a given label, the more confident the Discriminator is that the example\n",
        "belongs to the given class. To compute the classification error, we use cross-entropy loss, which measures the difference between the output probabilities and the target,\n",
        "one-hot-encoded labels.\n",
        "\n",
        "To output the real-versus-fake probability, the Discriminator uses the sigmoid activation function and trains its parameters by backpropagating the binary cross-entropy loss.\n",
        "\n"
      ]
    },
    {
      "cell_type": "markdown",
      "metadata": {
        "id": "eHR5V7Franbx",
        "colab_type": "text"
      },
      "source": [
        "### Setup"
      ]
    },
    {
      "cell_type": "code",
      "metadata": {
        "id": "9iwZ9Roxa3lM",
        "colab_type": "code",
        "colab": {}
      },
      "source": [
        "import tensorflow as tf\n",
        "\n",
        "from tensorflow.keras.layers import (Activation, BatchNormalization, Concatenate, Dense, Dropout,\n",
        "                                     Flatten, Input, Lambda, Reshape, LeakyReLU, Conv2D, Conv2DTranspose)\n",
        "from tensorflow.keras.models import Model, Sequential\n",
        "from tensorflow.keras.optimizers import Adam\n",
        "from tensorflow.keras.utils import to_categorical\n",
        "from tensorflow.keras.datasets import mnist\n",
        "from tensorflow.keras import backend as K\n",
        "\n",
        "import numpy as np\n",
        "import matplotlib.pyplot as plt\n",
        "%matplotlib inline"
      ],
      "execution_count": 27,
      "outputs": []
    },
    {
      "cell_type": "markdown",
      "metadata": {
        "id": "cSe2XTk4dEnf",
        "colab_type": "text"
      },
      "source": [
        "We also specify the input image size, the size of the noise vector $z$, and the number of the real classes for the semi-supervised classification (one for each numeral our Discriminator will learn to identify), as shown in the following listing."
      ]
    },
    {
      "cell_type": "code",
      "metadata": {
        "id": "9FZAuMHMcT9p",
        "colab_type": "code",
        "colab": {}
      },
      "source": [
        "# Model input dimensions\n",
        "img_rows = 28\n",
        "img_cols = 28\n",
        "channels = 1\n",
        "\n",
        "# Input image dimensions\n",
        "img_shape = (img_rows, img_cols, channels)\n",
        "\n",
        "# Size of the noise vector, used as input to the Generator\n",
        "z_dim = 100\n",
        "\n",
        "# Number of classes in the dataset\n",
        "num_classes = 10"
      ],
      "execution_count": 28,
      "outputs": []
    },
    {
      "cell_type": "markdown",
      "metadata": {
        "id": "NkrTK1oUeaBl",
        "colab_type": "text"
      },
      "source": [
        "### The dataset"
      ]
    },
    {
      "cell_type": "markdown",
      "metadata": {
        "id": "tKuIFYa3ehMR",
        "colab_type": "text"
      },
      "source": [
        "Although the MNIST training dataset has `50,000` labeled training images, we will use only a small fraction of them (specified by the `num_labeled` parameter) for training\n",
        "and pretend that all the remaining ones are unlabeled. We accomplish this by sampling only from the first num_labeled images when generating batches of labeled data and from the remaining `(50,000 – num_labeled)` images when generating batches of unlabeled examples.\n",
        "\n",
        "The Dataset object also provides a function to return all the\n",
        "`num_labeled` training examples along with their labels as well as a function to return all `10,000` labeled test images in the MNIST dataset. After training, we will use the test set to evaluate how well the model’s classifications generalize to previously unseen examples."
      ]
    },
    {
      "cell_type": "code",
      "metadata": {
        "id": "PVLjVXPFfTMm",
        "colab_type": "code",
        "colab": {}
      },
      "source": [
        "class Dataset:\n",
        "  def __init__(self, num_labeled):\n",
        "\n",
        "      # Number labeled examples to use for training\n",
        "      self.num_labeled = num_labeled\n",
        "\n",
        "      # Load the MNIST dataset\n",
        "      (self.x_train, self.y_train), (self.x_test,\n",
        "                                      self.y_test) = mnist.load_data()\n",
        "\n",
        "      def preprocess_imgs(x):\n",
        "          # Rescale [0, 255] grayscale pixel values to [-1, 1]\n",
        "          x = (x.astype(np.float32) - 127.5) / 127.5\n",
        "          # Expand image dimensions to width x height x channels\n",
        "          x = np.expand_dims(x, axis=3)\n",
        "          return x\n",
        "\n",
        "      def preprocess_labels(y):\n",
        "          return y.reshape(-1, 1)\n",
        "\n",
        "      # Training data\n",
        "      self.x_train = preprocess_imgs(self.x_train)\n",
        "      self.y_train = preprocess_labels(self.y_train)\n",
        "\n",
        "      # Testing data\n",
        "      self.x_test = preprocess_imgs(self.x_test)\n",
        "      self.y_test = preprocess_labels(self.y_test)\n",
        "\n",
        "  def batch_labeled(self, batch_size):\n",
        "      # Get a random batch of labeled images and their labels\n",
        "      idx = np.random.randint(0, self.num_labeled, batch_size)\n",
        "      imgs = self.x_train[idx]\n",
        "      labels = self.y_train[idx]\n",
        "      return imgs, labels\n",
        "\n",
        "  def batch_unlabeled(self, batch_size):\n",
        "      # Get a random batch of unlabeled images\n",
        "      idx = np.random.randint(self.num_labeled, self.x_train.shape[0],\n",
        "                              batch_size)\n",
        "      imgs = self.x_train[idx]\n",
        "      return imgs\n",
        "\n",
        "  def training_set(self):\n",
        "      x_train = self.x_train[range(self.num_labeled)]\n",
        "      y_train = self.y_train[range(self.num_labeled)]\n",
        "      return x_train, y_train\n",
        "\n",
        "  def test_set(self):\n",
        "      return self.x_test, self.y_test"
      ],
      "execution_count": 29,
      "outputs": []
    },
    {
      "cell_type": "markdown",
      "metadata": {
        "id": "SOdcFD_0aVeI",
        "colab_type": "text"
      },
      "source": [
        "We will pretend that we have only 100 labeled MNIST images for training:"
      ]
    },
    {
      "cell_type": "code",
      "metadata": {
        "id": "eZmpFuifaQpW",
        "colab_type": "code",
        "colab": {
          "base_uri": "https://localhost:8080/",
          "height": 35
        },
        "outputId": "c2d1079d-4e69-4766-ccdf-f0d59f7abd7a"
      },
      "source": [
        "# Number of labeled examples to use (rest will be used as unlabeled)\n",
        "num_labeled = 100\n",
        "\n",
        "dataset = Dataset(num_labeled)\n",
        "print(dataset.num_labeled)"
      ],
      "execution_count": 30,
      "outputs": [
        {
          "output_type": "stream",
          "text": [
            "100\n"
          ],
          "name": "stdout"
        }
      ]
    },
    {
      "cell_type": "markdown",
      "metadata": {
        "id": "Re1CdkG7bJI1",
        "colab_type": "text"
      },
      "source": [
        "### The Generator"
      ]
    },
    {
      "cell_type": "markdown",
      "metadata": {
        "id": "0T62BoNWb8AT",
        "colab_type": "text"
      },
      "source": [
        "The Generator network is the same as the one we implemented for the DCGAN. Using transposed convolution layers, the Generator transforms the input random noise vector into 28 × 28 × 1 image; see the following listing."
      ]
    },
    {
      "cell_type": "code",
      "metadata": {
        "id": "NrNfzvqxan09",
        "colab_type": "code",
        "colab": {}
      },
      "source": [
        "def build_generator(z_dim):\n",
        "  model = Sequential()\n",
        "\n",
        "  # Reshape input into 7x7x256 tensor via a fully connected layer\n",
        "  model.add(Dense(256 * 7 * 7, input_dim=z_dim))\n",
        "  model.add(Reshape((7, 7, 256)))\n",
        "\n",
        "  # Transposed convolution layer, from 7x7x256 into 14x14x128 tensor\n",
        "  model.add(Conv2DTranspose(128, kernel_size=3, strides=2, padding='same'))\n",
        "  # Batch normalization\n",
        "  model.add(BatchNormalization())\n",
        "  # Leaky ReLU activation\n",
        "  model.add(LeakyReLU(alpha=0.01))\n",
        "\n",
        "  # Transposed convolution layer, from 14x14x128 to 14x14x64 tensor\n",
        "  model.add(Conv2DTranspose(64, kernel_size=3, strides=1, padding='same'))\n",
        "  # Batch normalization\n",
        "  model.add(BatchNormalization())\n",
        "  # Leaky ReLU activation\n",
        "  model.add(LeakyReLU(alpha=0.01))\n",
        "\n",
        "  # Transposed convolution layer, from 14x14x64 to 28x28x1 tensor\n",
        "  model.add(Conv2DTranspose(1, kernel_size=3, strides=2, padding='same'))\n",
        "\n",
        "  # utput layer with tanh activation\n",
        "  model.add(Activation('tanh'))\n",
        "\n",
        "  return model"
      ],
      "execution_count": 31,
      "outputs": []
    },
    {
      "cell_type": "markdown",
      "metadata": {
        "id": "-wdGIeDq7bBR",
        "colab_type": "text"
      },
      "source": [
        "### The Discriminator"
      ]
    },
    {
      "cell_type": "markdown",
      "metadata": {
        "id": "3aEjJaQy7b7-",
        "colab_type": "text"
      },
      "source": [
        "The Discriminator is the most complex part of the SGAN model. Recall that the SGAN Discriminator has a dual objective:\n",
        "\n",
        "- Distinguish real examples from fake ones. For this, the SGAN Discriminator uses the sigmoid function, outputting a single output probability for binary classification.\n",
        "- For the real examples, accurately classify their label. For this, the SGAN Discriminator uses the softmax function, outputting a vector of probabilities, one for each of the target classes.\n",
        "\n",
        "**The core discriminator network**\n",
        "We add a dropout, a regularization technique that helps prevent\n",
        "overfitting by randomly dropping neurons and their connections from the neural network during training. This forces the remaining neurons to reduce their codependence and develop a more general representation of the underlying data. The fraction of the neurons to be randomly dropped is specified by the rate parameter, which is set to 0.5 in our implementation: model.add(Dropout(0.5)). We add dropout because of the increased complexity of the SGAN classification task and to improve the model’s ability to generalize from only 100 labeled examples."
      ]
    },
    {
      "cell_type": "code",
      "metadata": {
        "id": "tqqYHNqy-dEQ",
        "colab_type": "code",
        "colab": {}
      },
      "source": [
        "def build_discriminator_net(img_shape):\n",
        "  model = Sequential()\n",
        "\n",
        "  # Convolutional layer, from 28x28x1 into 14x14x32 tensor\n",
        "  model.add(Conv2D(32, kernel_size=3, strides=2, input_shape=img_shape, padding='same'))\n",
        "  # Leaky ReLU activation\n",
        "  model.add(LeakyReLU(alpha=0.01))\n",
        "\n",
        "  # Convolutional layer, from 14x14x32 into 7x7x64 tensor\n",
        "  model.add(Conv2D(64, kernel_size=3, strides=2, input_shape=img_shape, padding='same'))\n",
        "  # Batch normalization\n",
        "  model.add(BatchNormalization())\n",
        "  # Leaky ReLU activation\n",
        "  model.add(LeakyReLU(alpha=0.01))\n",
        "\n",
        "  # Convolutional layer, from 7x7x64 tensor into 3x3x128 tensor\n",
        "  model.add(Conv2D(128, kernel_size=3, strides=2, input_shape=img_shape, padding='same'))\n",
        "  # Batch normalization\n",
        "  model.add(BatchNormalization())\n",
        "  # Leaky ReLU activation\n",
        "  model.add(LeakyReLU(alpha=0.01))\n",
        "\n",
        "  # Droupout\n",
        "  model.add(Dropout(0.5))\n",
        "\n",
        "  # Flatten the tensor\n",
        "  model.add(Flatten())\n",
        "\n",
        "  # Fully connected layer with num_classes neurons\n",
        "  model.add(Dense(num_classes))\n",
        "\n",
        "  return model"
      ],
      "execution_count": 32,
      "outputs": []
    },
    {
      "cell_type": "markdown",
      "metadata": {
        "id": "PkeOV2Mp_977",
        "colab_type": "text"
      },
      "source": [
        "Note that the dropout layer is added after batch normalization and not the other way around; this has shown to have superior performance due to the interplay between the two techniques.\n",
        "\n",
        "Also, notice that the preceding network ends with a fully connected layer with 10 neurons.\n",
        "\n",
        "Next, we need to define the two Discriminator outputs computed from these\n",
        "neurons: \n",
        "\n",
        "- one for the supervised, multiclass classification (using softmax) and\n",
        "- the other for the unsupervised, binary classification (using sigmoid).\n",
        "\n",
        "**The supervised discriminator**\n",
        "\n",
        "We take the core Discriminator network implemented previously\n",
        "and use it to build the supervised portion of the Discriminator model."
      ]
    },
    {
      "cell_type": "code",
      "metadata": {
        "id": "kpajpBwqCCaI",
        "colab_type": "code",
        "colab": {}
      },
      "source": [
        "def build_discriminator_supervised(discriminator_net):\n",
        "  model = Sequential()\n",
        "\n",
        "  model.add(discriminator_net)\n",
        "\n",
        "  # Softmax activation, giving predicted probability distribution over the real classes\n",
        "  model.add(Activation('softmax'))\n",
        "\n",
        "  return model"
      ],
      "execution_count": 33,
      "outputs": []
    },
    {
      "cell_type": "markdown",
      "metadata": {
        "id": "aQNpmnI1CfLb",
        "colab_type": "text"
      },
      "source": [
        "**The unsupervised discriminator**\n",
        "\n",
        "The following listing implements the unsupervised portion of the Discriminator model on top of the core Discriminator network. Notice the predict(x) function, in which we transform the output of the 10 neurons (from the core Discriminator network) into a binary, real-versus-fake prediction."
      ]
    },
    {
      "cell_type": "code",
      "metadata": {
        "id": "vCIE04NmCZmK",
        "colab_type": "code",
        "colab": {}
      },
      "source": [
        "def build_discriminator_unsupervised(discriminator_net):\n",
        "  model = Sequential()\n",
        "\n",
        "  model.add(discriminator_net)\n",
        "\n",
        "  def predict(x):\n",
        "    # Transform distribution over real classes into a binary real-vs-fake probability\n",
        "    prediction = 1.0 - (1.0 / K.sum(K.exp(x), axis=-1, keepdims=True) + 1.0)\n",
        "    return prediction\n",
        "\n",
        "  # 'Real-vs-fake' output neuron defined above\n",
        "  model.add(Lambda(predict))\n",
        "\n",
        "  return model"
      ],
      "execution_count": 34,
      "outputs": []
    },
    {
      "cell_type": "markdown",
      "metadata": {
        "id": "Y1-cxC68Dnyd",
        "colab_type": "text"
      },
      "source": [
        "### Building the model"
      ]
    },
    {
      "cell_type": "markdown",
      "metadata": {
        "id": "NwdZ1tHLDo1H",
        "colab_type": "text"
      },
      "source": [
        "Next, we build and compile the Discriminator and Generator models. Notice the use of `categorical_crossentropy` and `binary_crossentropy` loss functions for the supervised loss and the unsupervised loss, respectively."
      ]
    },
    {
      "cell_type": "code",
      "metadata": {
        "id": "UR4THXw9Db7i",
        "colab_type": "code",
        "colab": {}
      },
      "source": [
        "def build_gan(generator, discriminator):\n",
        "  model = Sequential()\n",
        "\n",
        "  # Combined Generator + Discriminator model\n",
        "  model.add(generator)\n",
        "  model.add(discriminator)\n",
        "\n",
        "  return model"
      ],
      "execution_count": 35,
      "outputs": []
    },
    {
      "cell_type": "code",
      "metadata": {
        "id": "RaQYxeX5EDBn",
        "colab_type": "code",
        "colab": {}
      },
      "source": [
        "# Core Discriminator network: these layers are shared during supervised and unsupervised training.\n",
        "discriminator_net = build_discriminator_net(img_shape)\n",
        "\n",
        "# Builds and compiles the Discriminator for supervised training\n",
        "discriminator_supervised = build_discriminator_supervised(discriminator_net)\n",
        "discriminator_supervised.compile(loss='categorical_crossentropy', optimizer=Adam(), metrics=['accuracy'])\n",
        "\n",
        "# Builds and compiles the Discriminator for unsupervised training\n",
        "discriminator_unsupervised = build_discriminator_unsupervised(discriminator_net)\n",
        "discriminator_unsupervised.compile(loss='binary_crossentropy', optimizer=Adam())\n",
        "\n",
        "# Builds the Generator\n",
        "generator = build_generator(z_dim)\n",
        "\n",
        "# Keeps Discriminator’s parameters constant for Generator training\n",
        "discriminator_unsupervised.trainable = False\n",
        "\n",
        "# Builds and compiles GAN model with fixed Discriminator to train the Generator. Note: uses Discriminator version with unsupervised output.\n",
        "gan = build_gan(generator, discriminator_unsupervised)\n",
        "gan.compile(loss='binary_crossentropy', optimizer=Adam())"
      ],
      "execution_count": 36,
      "outputs": []
    },
    {
      "cell_type": "markdown",
      "metadata": {
        "id": "hh9HYa8PGGX2",
        "colab_type": "text"
      },
      "source": [
        "### Training"
      ]
    },
    {
      "cell_type": "markdown",
      "metadata": {
        "id": "raTSawQDGHN9",
        "colab_type": "text"
      },
      "source": [
        "The following pseudocode outlines the SGAN training algorithm.\n",
        "\n",
        "**SGAN training algorithm**\n",
        "\n",
        "**For** each training iteration **do**\n",
        "  1. Train the Discriminator (supervised):\n",
        "    - Take a random mini-batch of labeled real examples $(x, y)$.\n",
        "    - Compute $D((x, y))$ for the given mini-batch and backpropagate the  multiclass classification loss to update $\\theta^{(D)}$ to minimize the loss.\n",
        "  2. Train the Discriminator (unsupervised):\n",
        "    - Take a random mini-batch of unlabeled real examples $x$.\n",
        "    - Compute $D(x)$ for the given mini-batch and backpropagate the binary classification loss to update $\\theta^{(D)}$ to minimize the loss.\n",
        "    - Take a mini-batch of random noise vectors $z$ and generate a mini-batch of fake examples: $G(z) = x^*$.\n",
        "    - Compute $D(x^*)$ for the given mini-batch and backpropagate the binary\n",
        "  classification loss to update $\\theta^{(D)}$ to minimize the loss.\n",
        "  3. Train the Generator:\n",
        "    - Take a mini-batch of random noise vectors z and generate a mini-batch of fake examples: $G(z) = x^*$.\n",
        "    - Compute $D(x^*)$ for the given mini-batch and backpropagate the binary\n",
        "  classification loss to update $\\theta^{(G)}$ to maximize the loss.\n",
        "  \n",
        "**End for**"
      ]
    },
    {
      "cell_type": "code",
      "metadata": {
        "id": "3b9pmYI5I0sT",
        "colab_type": "code",
        "colab": {}
      },
      "source": [
        "supervised_losses = []\n",
        "iteration_checkpoints = []\n",
        "\n",
        "def train(iterations, batch_size, sample_interval):\n",
        "  # Labels for real images: all 1s\n",
        "  real = np.ones((batch_size, 1))\n",
        "  # Labels for fake images: all 0s\n",
        "  fake = np.ones((batch_size, 1))\n",
        "\n",
        "  for iteration in range(iterations):\n",
        "\n",
        "    # -------------------------\n",
        "    #  Train the Discriminator\n",
        "    # -------------------------\n",
        "    # Gets labeled examples\n",
        "    imgs, labels = dataset.batch_labeled(batch_size)\n",
        "    # One-hot-encoded labels\n",
        "    labels = to_categorical(labels, num_classes=num_classes)\n",
        "    # Gets unlabeled examples\n",
        "    imgs_unlabeled = dataset.batch_unlabeled(batch_size)\n",
        "\n",
        "    # Generates a batch of fake images\n",
        "    z = np.random.normal(0, 1, (batch_size, z_dim))\n",
        "    gen_imgs = generator.predict(z)\n",
        "\n",
        "    # Trains on real labeled examples\n",
        "    d_loss_supervised, accuracy = discriminator_supervised.train_on_batch(imgs, labels)\n",
        "    # Trains on real unlabeled examples\n",
        "    d_loss_real = discriminator_unsupervised.train_on_batch(imgs_unlabeled, real)\n",
        "    # Trains on fake examples\n",
        "    d_loss_fake = discriminator_unsupervised.train_on_batch(gen_imgs, fake)\n",
        "    # combine losses\n",
        "    d_loss_unsupervised = 0.5 * np.add(d_loss_real, d_loss_fake)\n",
        "\n",
        "    # ---------------------\n",
        "    #  Train the Generator\n",
        "    # ---------------------\n",
        "    # Generates a batch of fake images\n",
        "    z = np.random.normal(0, 1, (batch_size, z_dim))\n",
        "    gen_imgs = generator.predict(z)\n",
        "\n",
        "    # Trains the Generator\n",
        "    g_loss = gan.train_on_batch(z, np.ones((batch_size, 1)))\n",
        "    if (iteration + 1) % sample_interval == 0:\n",
        "      # Saves the Discriminator’s supervised classification loss to be plotted after training\n",
        "      supervised_losses.append(d_loss_unsupervised)\n",
        "      iteration_checkpoints.append(iteration + 1)\n",
        "      #Output training progress\n",
        "      print(\"%d [D loss supervised: %.4f, acc.: %.2f%%] [D loss unsupervised: %.4f] [G loss: %f]\"\n",
        "                % (iteration + 1, d_loss_supervised, 100 * accuracy, d_loss_unsupervised, g_loss))"
      ],
      "execution_count": 39,
      "outputs": []
    },
    {
      "cell_type": "markdown",
      "metadata": {
        "id": "ObWg_z-rS9-8",
        "colab_type": "text"
      },
      "source": [
        "#### Training the model"
      ]
    },
    {
      "cell_type": "markdown",
      "metadata": {
        "id": "0ZlOaeI7S_Vu",
        "colab_type": "text"
      },
      "source": [
        "We use a smaller batch size because we have only 100 labeled examples for training. The number of iterations is determined by trial and error: we keep increasing the number until the Discriminator’s supervised loss plateaus, but not too far past that point (to reduce the risk of overfitting):"
      ]
    },
    {
      "cell_type": "code",
      "metadata": {
        "id": "e6oQCLQ_S5FX",
        "colab_type": "code",
        "colab": {
          "base_uri": "https://localhost:8080/",
          "height": 195
        },
        "outputId": "22348053-28a9-4cba-8db7-e607ef2cce5e"
      },
      "source": [
        "# sets hyperparameters\n",
        "iterations = 8000\n",
        "batch_size = 32\n",
        "sample_interval = 800\n",
        "\n",
        "# Trains the SGAN for the specified number of iterations\n",
        "train(iterations, batch_size, sample_interval)"
      ],
      "execution_count": 40,
      "outputs": [
        {
          "output_type": "stream",
          "text": [
            "800 [D loss supervised: 0.0001, acc.: 100.00%] [D loss unsupervised: 15.4249] [G loss: 15.424949]\n",
            "1600 [D loss supervised: 0.0000, acc.: 100.00%] [D loss unsupervised: 15.4249] [G loss: 15.424949]\n",
            "2400 [D loss supervised: 0.0000, acc.: 100.00%] [D loss unsupervised: 15.4249] [G loss: 15.424949]\n",
            "3200 [D loss supervised: 0.0000, acc.: 100.00%] [D loss unsupervised: 15.4249] [G loss: 15.424949]\n",
            "4000 [D loss supervised: 0.0000, acc.: 100.00%] [D loss unsupervised: 15.4249] [G loss: 15.424949]\n",
            "4800 [D loss supervised: 0.0000, acc.: 100.00%] [D loss unsupervised: 15.4249] [G loss: 15.424949]\n",
            "5600 [D loss supervised: 0.0000, acc.: 100.00%] [D loss unsupervised: 15.4249] [G loss: 15.424949]\n",
            "6400 [D loss supervised: 0.0000, acc.: 100.00%] [D loss unsupervised: 15.4249] [G loss: 15.424949]\n",
            "7200 [D loss supervised: 0.0000, acc.: 100.00%] [D loss unsupervised: 15.4249] [G loss: 15.424949]\n",
            "8000 [D loss supervised: 0.0000, acc.: 100.00%] [D loss unsupervised: 15.4249] [G loss: 15.424949]\n"
          ],
          "name": "stdout"
        }
      ]
    },
    {
      "cell_type": "code",
      "metadata": {
        "id": "DB8GyHufXjfE",
        "colab_type": "code",
        "colab": {
          "base_uri": "https://localhost:8080/",
          "height": 383
        },
        "outputId": "c02ac0eb-4a82-44b5-c6c3-be74bccbaaeb"
      },
      "source": [
        "losses = np.array(supervised_losses)\n",
        "\n",
        "# Plot Discriminator supervised loss\n",
        "plt.figure(figsize=(15, 5))\n",
        "plt.plot(iteration_checkpoints, losses, label=\"Discriminator loss\")\n",
        "\n",
        "plt.xticks(iteration_checkpoints, rotation=90)\n",
        "\n",
        "plt.title(\"Discriminator – Supervised Loss\")\n",
        "plt.xlabel(\"Iteration\")\n",
        "plt.ylabel(\"Loss\")\n",
        "plt.legend()"
      ],
      "execution_count": 41,
      "outputs": [
        {
          "output_type": "execute_result",
          "data": {
            "text/plain": [
              "<matplotlib.legend.Legend at 0x7fcb703bd1d0>"
            ]
          },
          "metadata": {
            "tags": []
          },
          "execution_count": 41
        },
        {
          "output_type": "display_data",
          "data": {
            "image/png": "[encoded data removed]",
            "text/plain": [
              "<Figure size 1080x360 with 1 Axes>"
            ]
          },
          "metadata": {
            "tags": [],
            "needs_background": "light"
          }
        }
      ]
    },
    {
      "cell_type": "markdown",
      "metadata": {
        "id": "3bFq3RTDgFp8",
        "colab_type": "text"
      },
      "source": [
        "#### SGAN Classifier – Training and Test Accuracy"
      ]
    },
    {
      "cell_type": "markdown",
      "metadata": {
        "id": "d1CmQD8ogUDI",
        "colab_type": "text"
      },
      "source": [
        "During training, we see that we achieved supervised accuracy\n",
        "of 100%. Although this may seem impressive, remember that we have only 100 labeled examples from which to sample for supervised training. Perhaps our model just memorized the training dataset. What matters is how well our classifier can generalize to the previously unseen data in the training set."
      ]
    },
    {
      "cell_type": "code",
      "metadata": {
        "id": "fVLmYAIIfn7L",
        "colab_type": "code",
        "colab": {
          "base_uri": "https://localhost:8080/",
          "height": 52
        },
        "outputId": "413d8c0b-0305-43a4-f720-18a6b7687570"
      },
      "source": [
        "x, y = dataset.test_set()\n",
        "y = to_categorical(y, num_classes=num_classes)\n",
        "\n",
        "# Computes classification accuracy on the test set\n",
        "_, accuracy = discriminator_supervised.evaluate(x, y)\n",
        "print(\"Test Accuracy: %.2f%%\" % (100 * accuracy))"
      ],
      "execution_count": 42,
      "outputs": [
        {
          "output_type": "stream",
          "text": [
            "313/313 [==============================] - 1s 2ms/step - loss: 2.1384 - accuracy: 0.6468\n",
            "Test Accuracy: 64.68%\n"
          ],
          "name": "stdout"
        }
      ]
    },
    {
      "cell_type": "code",
      "metadata": {
        "id": "VGyd41aVguUd",
        "colab_type": "code",
        "colab": {
          "base_uri": "https://localhost:8080/",
          "height": 52
        },
        "outputId": "3534a2a7-c262-4ae1-d2aa-06fe4e5e7af1"
      },
      "source": [
        "x, y = dataset.training_set()\n",
        "y = to_categorical(y, num_classes=num_classes)\n",
        "\n",
        "# Compute classification accuracy on the training set\n",
        "_, accuracy = discriminator_supervised.evaluate(x, y)\n",
        "print(\"Test Accuracy: %.2f%%\" % (100 * accuracy))"
      ],
      "execution_count": 43,
      "outputs": [
        {
          "output_type": "stream",
          "text": [
            "4/4 [==============================] - 0s 6ms/step - loss: 1.9550e-07 - accuracy: 1.0000\n",
            "Test Accuracy: 100.00%\n"
          ],
          "name": "stdout"
        }
      ]
    },
    {
      "cell_type": "markdown",
      "metadata": {
        "id": "ab9kWqEzhI87",
        "colab_type": "text"
      },
      "source": [
        "#### Fully-Supervised Classifier"
      ]
    },
    {
      "cell_type": "markdown",
      "metadata": {
        "id": "zo7NkQrbhR2y",
        "colab_type": "text"
      },
      "source": [
        "To make the comparison as fair as possible, we use the same network architecture for the fully supervised classifier as the one used for the supervised Discriminator training.\n",
        "\n",
        "The idea is that this will allow us to isolate the improvement to the classifier’s ability to generalize that was achieved through the GANenabled\n",
        "semi-supervised learning."
      ]
    },
    {
      "cell_type": "code",
      "metadata": {
        "id": "YzXQCYR7hCk2",
        "colab_type": "code",
        "colab": {}
      },
      "source": [
        "# Fully supervised classifier with the same network architecture as the SGAN Discriminator\n",
        "mnist_classifier = build_discriminator_supervised(build_discriminator_net(img_shape))\n",
        "mnist_classifier.compile(loss='categorical_crossentropy', optimizer=Adam(), metrics=['accuracy'])"
      ],
      "execution_count": 44,
      "outputs": []
    },
    {
      "cell_type": "code",
      "metadata": {
        "id": "UQ-_RDxSi3DG",
        "colab_type": "code",
        "colab": {
          "base_uri": "https://localhost:8080/",
          "height": 1000
        },
        "outputId": "eaebb9d9-a32b-4d6c-f223-870d8ab2623c"
      },
      "source": [
        "imgs, labels = dataset.training_set()\n",
        "\n",
        "# One-hot encode labels\n",
        "labels = to_categorical(labels, num_classes=num_classes)\n",
        "\n",
        "# Train the classifier\n",
        "training = mnist_classifier.fit(x=imgs, y=labels, batch_size=32, epochs=30, verbose=1)\n",
        "losses = training.history['loss']\n",
        "accuracies = training.history['accuracy']"
      ],
      "execution_count": 45,
      "outputs": [
        {
          "output_type": "stream",
          "text": [
            "Epoch 1/30\n",
            "4/4 [==============================] - 0s 8ms/step - loss: 2.8817 - accuracy: 0.1800\n",
            "Epoch 2/30\n",
            "4/4 [==============================] - 0s 4ms/step - loss: 1.4357 - accuracy: 0.5400\n",
            "Epoch 3/30\n",
            "4/4 [==============================] - 0s 3ms/step - loss: 0.7504 - accuracy: 0.7800\n",
            "Epoch 4/30\n",
            "4/4 [==============================] - 0s 3ms/step - loss: 0.4333 - accuracy: 0.8800\n",
            "Epoch 5/30\n",
            "4/4 [==============================] - 0s 3ms/step - loss: 0.3277 - accuracy: 0.8900\n",
            "Epoch 6/30\n",
            "4/4 [==============================] - 0s 3ms/step - loss: 0.2331 - accuracy: 0.9500\n",
            "Epoch 7/30\n",
            "4/4 [==============================] - 0s 3ms/step - loss: 0.1799 - accuracy: 0.9700\n",
            "Epoch 8/30\n",
            "4/4 [==============================] - 0s 4ms/step - loss: 0.1011 - accuracy: 0.9900\n",
            "Epoch 9/30\n",
            "4/4 [==============================] - 0s 3ms/step - loss: 0.0979 - accuracy: 0.9800\n",
            "Epoch 10/30\n",
            "4/4 [==============================] - 0s 4ms/step - loss: 0.0790 - accuracy: 0.9900\n",
            "Epoch 11/30\n",
            "4/4 [==============================] - 0s 3ms/step - loss: 0.0735 - accuracy: 1.0000\n",
            "Epoch 12/30\n",
            "4/4 [==============================] - 0s 3ms/step - loss: 0.0337 - accuracy: 1.0000\n",
            "Epoch 13/30\n",
            "4/4 [==============================] - 0s 3ms/step - loss: 0.0405 - accuracy: 1.0000\n",
            "Epoch 14/30\n",
            "4/4 [==============================] - 0s 3ms/step - loss: 0.0243 - accuracy: 1.0000\n",
            "Epoch 15/30\n",
            "4/4 [==============================] - 0s 3ms/step - loss: 0.0289 - accuracy: 1.0000\n",
            "Epoch 16/30\n",
            "4/4 [==============================] - 0s 4ms/step - loss: 0.0353 - accuracy: 0.9900\n",
            "Epoch 17/30\n",
            "4/4 [==============================] - 0s 3ms/step - loss: 0.0162 - accuracy: 1.0000\n",
            "Epoch 18/30\n",
            "4/4 [==============================] - 0s 3ms/step - loss: 0.0163 - accuracy: 1.0000\n",
            "Epoch 19/30\n",
            "4/4 [==============================] - 0s 3ms/step - loss: 0.0194 - accuracy: 1.0000\n",
            "Epoch 20/30\n",
            "4/4 [==============================] - 0s 3ms/step - loss: 0.0321 - accuracy: 0.9900\n",
            "Epoch 21/30\n",
            "4/4 [==============================] - 0s 3ms/step - loss: 0.0109 - accuracy: 1.0000\n",
            "Epoch 22/30\n",
            "4/4 [==============================] - 0s 3ms/step - loss: 0.0128 - accuracy: 1.0000\n",
            "Epoch 23/30\n",
            "4/4 [==============================] - 0s 4ms/step - loss: 0.0172 - accuracy: 1.0000\n",
            "Epoch 24/30\n",
            "4/4 [==============================] - 0s 3ms/step - loss: 0.0084 - accuracy: 1.0000\n",
            "Epoch 25/30\n",
            "4/4 [==============================] - 0s 3ms/step - loss: 0.0078 - accuracy: 1.0000\n",
            "Epoch 26/30\n",
            "4/4 [==============================] - 0s 3ms/step - loss: 0.0093 - accuracy: 1.0000\n",
            "Epoch 27/30\n",
            "4/4 [==============================] - 0s 3ms/step - loss: 0.0081 - accuracy: 1.0000\n",
            "Epoch 28/30\n",
            "4/4 [==============================] - 0s 3ms/step - loss: 0.0065 - accuracy: 1.0000\n",
            "Epoch 29/30\n",
            "4/4 [==============================] - 0s 3ms/step - loss: 0.0073 - accuracy: 1.0000\n",
            "Epoch 30/30\n",
            "4/4 [==============================] - 0s 3ms/step - loss: 0.0061 - accuracy: 1.0000\n"
          ],
          "name": "stdout"
        }
      ]
    },
    {
      "cell_type": "code",
      "metadata": {
        "id": "ejVEhtq2jVLu",
        "colab_type": "code",
        "colab": {
          "base_uri": "https://localhost:8080/",
          "height": 354
        },
        "outputId": "477d6d3e-930f-4914-e16f-9216348226e0"
      },
      "source": [
        "# Plot classification loss\n",
        "plt.figure(figsize=(10, 5))\n",
        "plt.plot(np.array(losses), label=\"Loss\")\n",
        "plt.title(\"Classification Loss\")\n",
        "plt.legend()"
      ],
      "execution_count": 46,
      "outputs": [
        {
          "output_type": "execute_result",
          "data": {
            "text/plain": [
              "<matplotlib.legend.Legend at 0x7fcb7610c3c8>"
            ]
          },
          "metadata": {
            "tags": []
          },
          "execution_count": 46
        },
        {
          "output_type": "display_data",
          "data": {
            "image/png": "[encoded data removed]",
            "text/plain": [
              "<Figure size 720x360 with 1 Axes>"
            ]
          },
          "metadata": {
            "tags": [],
            "needs_background": "light"
          }
        }
      ]
    },
    {
      "cell_type": "code",
      "metadata": {
        "id": "iI6V6XtqjZMe",
        "colab_type": "code",
        "colab": {
          "base_uri": "https://localhost:8080/",
          "height": 354
        },
        "outputId": "6bda321d-1d00-4d30-91d5-da773ab5b81a"
      },
      "source": [
        "# Plot classification accuracy\n",
        "plt.figure(figsize=(10, 5))\n",
        "plt.plot(np.array(accuracies), label=\"Accuracy\")\n",
        "plt.title(\"Classification Accuracy\")\n",
        "plt.legend()"
      ],
      "execution_count": 47,
      "outputs": [
        {
          "output_type": "execute_result",
          "data": {
            "text/plain": [
              "<matplotlib.legend.Legend at 0x7fcb764592e8>"
            ]
          },
          "metadata": {
            "tags": []
          },
          "execution_count": 47
        },
        {
          "output_type": "display_data",
          "data": {
            "image/png": "[encoded data removed]",
            "text/plain": [
              "<Figure size 720x360 with 1 Axes>"
            ]
          },
          "metadata": {
            "tags": [],
            "needs_background": "light"
          }
        }
      ]
    },
    {
      "cell_type": "code",
      "metadata": {
        "id": "cC0qC5nIjfLx",
        "colab_type": "code",
        "colab": {
          "base_uri": "https://localhost:8080/",
          "height": 52
        },
        "outputId": "91f44c19-eb7c-4b47-f4e1-ac6a8da480a2"
      },
      "source": [
        "x, y = dataset.training_set()\n",
        "y = to_categorical(y, num_classes=num_classes)\n",
        "\n",
        "# Compute classification accuracy on the training set\n",
        "_, accuracy = mnist_classifier.evaluate(x, y)\n",
        "print(\"Training Accuracy: %.2f%%\" % (100 * accuracy))"
      ],
      "execution_count": 48,
      "outputs": [
        {
          "output_type": "stream",
          "text": [
            "4/4 [==============================] - 0s 2ms/step - loss: 1.6283 - accuracy: 0.9900\n",
            "Training Accuracy: 99.00%\n"
          ],
          "name": "stdout"
        }
      ]
    },
    {
      "cell_type": "code",
      "metadata": {
        "id": "G5ONgQkvjl4C",
        "colab_type": "code",
        "colab": {
          "base_uri": "https://localhost:8080/",
          "height": 52
        },
        "outputId": "f56e6763-d7bc-4846-f34e-e56793ba9f1b"
      },
      "source": [
        "x, y = dataset.test_set()\n",
        "y = to_categorical(y, num_classes=num_classes)\n",
        "\n",
        "# Compute classification accuracy on the test set\n",
        "_, accuracy = mnist_classifier.evaluate(x, y)\n",
        "print(\"Test Accuracy: %.2f%%\" % (100 * accuracy))"
      ],
      "execution_count": 49,
      "outputs": [
        {
          "output_type": "stream",
          "text": [
            "313/313 [==============================] - 1s 2ms/step - loss: 1.9467 - accuracy: 0.5612\n",
            "Test Accuracy: 56.12%\n"
          ],
          "name": "stdout"
        }
      ]
    },
    {
      "cell_type": "markdown",
      "metadata": {
        "id": "G3i6-EShj5Xf",
        "colab_type": "text"
      },
      "source": [
        "Like the SGAN Discriminator, the fully supervised classifier achieved 100% accuracy on the training dataset. On the test set, however, it was able to correctly classify only about 70% of the examples—about a whopping 20 percentage points worse than our SGAN. Put differently, the SGAN improved the training accuracy by almost 30%!\n",
        "\n",
        "With a lot more training data, the fully supervised classifier’s ability to generalize improves dramatically. Using the same setup and training, the fully supervised classifier with 10,000 labeled examples (100 times as many as we originally used), we achieve an accuracy of about 98%. But that would no longer be a semi-supervised setting."
      ]
    }
  ]
}